{
  "nbformat": 4,
  "nbformat_minor": 0,
  "metadata": {
    "kernelspec": {
      "display_name": "Python 3",
      "language": "python",
      "name": "python3"
    },
    "language_info": {
      "codemirror_mode": {
        "name": "ipython",
        "version": 3
      },
      "file_extension": ".py",
      "mimetype": "text/x-python",
      "name": "python",
      "nbconvert_exporter": "python",
      "pygments_lexer": "ipython3",
      "version": "3.7.6"
    },
    "colab": {
      "name": "DS0701EN-3-3-2-Neighborhoods-New-York-py-v2.0.ipynb",
      "provenance": [],
      "include_colab_link": true
    }
  },
  "cells": [
    {
      "cell_type": "markdown",
      "metadata": {
        "id": "view-in-github",
        "colab_type": "text"
      },
      "source": [
        "<a href=\"https://colab.research.google.com/github/ApoorvAkash/Coursera_Capstone/blob/main/Neighborhoods_New_York.ipynb\" target=\"_parent\"><img src=\"https://colab.research.google.com/assets/colab-badge.svg\" alt=\"Open In Colab\"/></a>"
      ]
    },
    {
      "cell_type": "markdown",
      "metadata": {
        "id": "2_LvCWLNcR2C"
      },
      "source": [
        "<a href=\"https://cognitiveclass.ai\"><img src = \"https://cf-courses-data.s3.us.cloud-object-storage.appdomain.cloud/IBMDeveloperSkillsNetwork-DS0701EN-SkillsNetwork/labs_v1/IDSNlogo.png\" width = 400> </a>\n",
        "\n",
        "<h1 align=center><font size = 5>Segmenting and Clustering Neighborhoods in New York City</font></h1>\n"
      ]
    },
    {
      "cell_type": "markdown",
      "metadata": {
        "id": "zsoZl93NcR2J"
      },
      "source": [
        "## Introduction\n",
        "\n",
        "In this lab, you will learn how to convert addresses into their equivalent latitude and longitude values. Also, you will use the Foursquare API to explore neighborhoods in New York City. You will use the **explore** function to get the most common venue categories in each neighborhood, and then use this feature to group the neighborhoods into clusters. You will use the _k_-means clustering algorithm to complete this task. Finally, you will use the Folium library to visualize the neighborhoods in New York City and their emerging clusters.\n"
      ]
    },
    {
      "cell_type": "markdown",
      "metadata": {
        "id": "hwjDBE8KcR2M"
      },
      "source": [
        "## Table of Contents\n",
        "\n",
        "<div class=\"alert alert-block alert-info\" style=\"margin-top: 20px\">\n",
        "\n",
        "<font size = 3>\n",
        "\n",
        "1.  <a href=\"#item1\">Download and Explore Dataset</a>\n",
        "\n",
        "2.  <a href=\"#item2\">Explore Neighborhoods in New York City</a>\n",
        "\n",
        "3.  <a href=\"#item3\">Analyze Each Neighborhood</a>\n",
        "\n",
        "4.  <a href=\"#item4\">Cluster Neighborhoods</a>\n",
        "\n",
        "5.  <a href=\"#item5\">Examine Clusters</a>  \n",
        "    </font>\n",
        "    </div>\n"
      ]
    },
    {
      "cell_type": "markdown",
      "metadata": {
        "id": "1hNIkLFjcR2O"
      },
      "source": [
        "Before we get the data and start exploring it, let's download all the dependencies that we will need.\n"
      ]
    },
    {
      "cell_type": "code",
      "metadata": {
        "id": "2lLwTc0HcR2Q"
      },
      "source": [
        "import numpy as np # library to handle data in a vectorized manner\n",
        "\n",
        "import pandas as pd # library for data analsysis\n",
        "pd.set_option('display.max_columns', None)\n",
        "pd.set_option('display.max_rows', None)\n",
        "\n",
        "import json # library to handle JSON files\n",
        "\n",
        "#!conda install -c conda-forge geopy --yes # uncomment this line if you haven't completed the Foursquare API lab\n",
        "from geopy.geocoders import Nominatim # convert an address into latitude and longitude values\n",
        "\n",
        "import requests # library to handle requests\n",
        "from pandas.io.json import json_normalize # tranform JSON file into a pandas dataframe\n",
        "\n",
        "# Matplotlib and associated plotting modules\n",
        "import matplotlib.cm as cm\n",
        "import matplotlib.colors as colors\n",
        "\n",
        "# import k-means from clustering stage\n",
        "from sklearn.cluster import KMeans\n",
        "\n",
        "#!conda install -c conda-forge folium=0.5.0 --yes # uncomment this line if you haven't completed the Foursquare API lab\n",
        "import folium # map rendering library\n",
        "\n",
        "print('Libraries imported.')"
      ],
      "execution_count": null,
      "outputs": []
    },
    {
      "cell_type": "markdown",
      "metadata": {
        "id": "E6HzCKRKcR2T"
      },
      "source": [
        "<a id='item1'></a>\n"
      ]
    },
    {
      "cell_type": "markdown",
      "metadata": {
        "id": "dfIo_j4LcR2V"
      },
      "source": [
        "## 1. Download and Explore Dataset\n"
      ]
    },
    {
      "cell_type": "markdown",
      "metadata": {
        "id": "StTBpqB2cR2W"
      },
      "source": [
        "Neighborhood has a total of 5 boroughs and 306 neighborhoods. In order to segement the neighborhoods and explore them, we will essentially need a dataset that contains the 5 boroughs and the neighborhoods that exist in each borough as well as the the latitude and logitude coordinates of each neighborhood. \n"
      ]
    },
    {
      "cell_type": "markdown",
      "metadata": {
        "id": "ppyjfKY3cR2X"
      },
      "source": [
        "For your convenience, I downloaded the files and placed it on the server, so you can simply run a `wget` command and access the data. So let's go ahead and do that.\n"
      ]
    },
    {
      "cell_type": "code",
      "metadata": {
        "scrolled": true,
        "id": "4KJqWd0ycR2Z"
      },
      "source": [
        "!wget -q -O 'newyork_data.json' https://cf-courses-data.s3.us.cloud-object-storage.appdomain.cloud/IBMDeveloperSkillsNetwork-DS0701EN-SkillsNetwork/labs/newyork_data.json\n",
        "print('Data downloaded!')"
      ],
      "execution_count": null,
      "outputs": []
    },
    {
      "cell_type": "markdown",
      "metadata": {
        "id": "Y5wDk8oPcR2a"
      },
      "source": [
        "#### Load and explore the data\n"
      ]
    },
    {
      "cell_type": "markdown",
      "metadata": {
        "id": "JuJDSHLFcR2b"
      },
      "source": [
        "Next, let's load the data.\n"
      ]
    },
    {
      "cell_type": "code",
      "metadata": {
        "id": "T_czg0umcR2c"
      },
      "source": [
        "with open('newyork_data.json') as json_data:\n",
        "    newyork_data = json.load(json_data)"
      ],
      "execution_count": null,
      "outputs": []
    },
    {
      "cell_type": "markdown",
      "metadata": {
        "id": "0lRRZZ_YcR2d"
      },
      "source": [
        "Let's take a quick look at the data.\n"
      ]
    },
    {
      "cell_type": "code",
      "metadata": {
        "id": "xnWburS0cR2e"
      },
      "source": [
        "newyork_data"
      ],
      "execution_count": null,
      "outputs": []
    },
    {
      "cell_type": "markdown",
      "metadata": {
        "id": "EuFTpEuKcR2f"
      },
      "source": [
        "Notice how all the relevant data is in the _features_ key, which is basically a list of the neighborhoods. So, let's define a new variable that includes this data.\n"
      ]
    },
    {
      "cell_type": "code",
      "metadata": {
        "id": "UbubY2whcR2g"
      },
      "source": [
        "neighborhoods_data = newyork_data['features']"
      ],
      "execution_count": null,
      "outputs": []
    },
    {
      "cell_type": "markdown",
      "metadata": {
        "id": "bVxmrG0ecR2h"
      },
      "source": [
        "Let's take a look at the first item in this list.\n"
      ]
    },
    {
      "cell_type": "code",
      "metadata": {
        "id": "hDaF5xmccR2i"
      },
      "source": [
        "neighborhoods_data[0]"
      ],
      "execution_count": null,
      "outputs": []
    },
    {
      "cell_type": "markdown",
      "metadata": {
        "id": "j2gPYqs5cR2j"
      },
      "source": [
        "#### Tranform the data into a _pandas_ dataframe\n"
      ]
    },
    {
      "cell_type": "markdown",
      "metadata": {
        "id": "s9VU7_eIcR2k"
      },
      "source": [
        "The next task is essentially transforming this data of nested Python dictionaries into a _pandas_ dataframe. So let's start by creating an empty dataframe.\n"
      ]
    },
    {
      "cell_type": "code",
      "metadata": {
        "id": "10Q4pdVMcR2l"
      },
      "source": [
        "# define the dataframe columns\n",
        "column_names = ['Borough', 'Neighborhood', 'Latitude', 'Longitude'] \n",
        "\n",
        "# instantiate the dataframe\n",
        "neighborhoods = pd.DataFrame(columns=column_names)"
      ],
      "execution_count": null,
      "outputs": []
    },
    {
      "cell_type": "markdown",
      "metadata": {
        "id": "VnbnhSdacR2m"
      },
      "source": [
        "Take a look at the empty dataframe to confirm that the columns are as intended.\n"
      ]
    },
    {
      "cell_type": "code",
      "metadata": {
        "id": "riz7KUeOcR2n"
      },
      "source": [
        "neighborhoods"
      ],
      "execution_count": null,
      "outputs": []
    },
    {
      "cell_type": "markdown",
      "metadata": {
        "id": "Njt1MvfTcR2o"
      },
      "source": [
        "Then let's loop through the data and fill the dataframe one row at a time.\n"
      ]
    },
    {
      "cell_type": "code",
      "metadata": {
        "id": "o9hqRYb8cR2p"
      },
      "source": [
        "for data in neighborhoods_data:\n",
        "    borough = neighborhood_name = data['properties']['borough'] \n",
        "    neighborhood_name = data['properties']['name']\n",
        "        \n",
        "    neighborhood_latlon = data['geometry']['coordinates']\n",
        "    neighborhood_lat = neighborhood_latlon[1]\n",
        "    neighborhood_lon = neighborhood_latlon[0]\n",
        "    \n",
        "    neighborhoods = neighborhoods.append({'Borough': borough,\n",
        "                                          'Neighborhood': neighborhood_name,\n",
        "                                          'Latitude': neighborhood_lat,\n",
        "                                          'Longitude': neighborhood_lon}, ignore_index=True)"
      ],
      "execution_count": null,
      "outputs": []
    },
    {
      "cell_type": "markdown",
      "metadata": {
        "id": "_911k3C9cR2r"
      },
      "source": [
        "Quickly examine the resulting dataframe.\n"
      ]
    },
    {
      "cell_type": "code",
      "metadata": {
        "scrolled": true,
        "id": "cZd-2dSlcR2s"
      },
      "source": [
        "neighborhoods.head()"
      ],
      "execution_count": null,
      "outputs": []
    },
    {
      "cell_type": "markdown",
      "metadata": {
        "id": "3txSTO1DcR2t"
      },
      "source": [
        "And make sure that the dataset has all 5 boroughs and 306 neighborhoods.\n"
      ]
    },
    {
      "cell_type": "code",
      "metadata": {
        "id": "h7H_eaWgcR2u"
      },
      "source": [
        "print('The dataframe has {} boroughs and {} neighborhoods.'.format(\n",
        "        len(neighborhoods['Borough'].unique()),\n",
        "        neighborhoods.shape[0]\n",
        "    )\n",
        ")"
      ],
      "execution_count": null,
      "outputs": []
    },
    {
      "cell_type": "markdown",
      "metadata": {
        "id": "bm128y6EcR2w"
      },
      "source": [
        "#### Use geopy library to get the latitude and longitude values of New York City.\n"
      ]
    },
    {
      "cell_type": "markdown",
      "metadata": {
        "id": "868AMa7EcR2w"
      },
      "source": [
        "In order to define an instance of the geocoder, we need to define a user_agent. We will name our agent <em>ny_explorer</em>, as shown below.\n"
      ]
    },
    {
      "cell_type": "code",
      "metadata": {
        "scrolled": true,
        "id": "xaeuwCTYcR2x"
      },
      "source": [
        "address = 'New York City, NY'\n",
        "\n",
        "geolocator = Nominatim(user_agent=\"ny_explorer\")\n",
        "location = geolocator.geocode(address)\n",
        "latitude = location.latitude\n",
        "longitude = location.longitude\n",
        "print('The geograpical coordinate of New York City are {}, {}.'.format(latitude, longitude))"
      ],
      "execution_count": null,
      "outputs": []
    },
    {
      "cell_type": "markdown",
      "metadata": {
        "id": "upII5SbCcR2y"
      },
      "source": [
        "#### Create a map of New York with neighborhoods superimposed on top.\n"
      ]
    },
    {
      "cell_type": "code",
      "metadata": {
        "id": "y8WFwV2BcR2z"
      },
      "source": [
        "# create map of New York using latitude and longitude values\n",
        "map_newyork = folium.Map(location=[latitude, longitude], zoom_start=10)\n",
        "\n",
        "# add markers to map\n",
        "for lat, lng, borough, neighborhood in zip(neighborhoods['Latitude'], neighborhoods['Longitude'], neighborhoods['Borough'], neighborhoods['Neighborhood']):\n",
        "    label = '{}, {}'.format(neighborhood, borough)\n",
        "    label = folium.Popup(label, parse_html=True)\n",
        "    folium.CircleMarker(\n",
        "        [lat, lng],\n",
        "        radius=5,\n",
        "        popup=label,\n",
        "        color='blue',\n",
        "        fill=True,\n",
        "        fill_color='#3186cc',\n",
        "        fill_opacity=0.7,\n",
        "        parse_html=False).add_to(map_newyork)  \n",
        "    \n",
        "map_newyork"
      ],
      "execution_count": null,
      "outputs": []
    },
    {
      "cell_type": "markdown",
      "metadata": {
        "id": "6_N7RyBzcR21"
      },
      "source": [
        "**Folium** is a great visualization library. Feel free to zoom into the above map, and click on each circle mark to reveal the name of the neighborhood and its respective borough.\n"
      ]
    },
    {
      "cell_type": "markdown",
      "metadata": {
        "id": "KUJkJbt_cR22"
      },
      "source": [
        "However, for illustration purposes, let's simplify the above map and segment and cluster only the neighborhoods in Manhattan. So let's slice the original dataframe and create a new dataframe of the Manhattan data.\n"
      ]
    },
    {
      "cell_type": "code",
      "metadata": {
        "id": "Ta3M3Z2OcR22"
      },
      "source": [
        "manhattan_data = neighborhoods[neighborhoods['Borough'] == 'Manhattan'].reset_index(drop=True)\n",
        "manhattan_data.head()"
      ],
      "execution_count": null,
      "outputs": []
    },
    {
      "cell_type": "markdown",
      "metadata": {
        "id": "UMAdFcqzcR23"
      },
      "source": [
        "Let's get the geographical coordinates of Manhattan.\n"
      ]
    },
    {
      "cell_type": "code",
      "metadata": {
        "id": "8bTK7xRAcR24"
      },
      "source": [
        "address = 'Manhattan, NY'\n",
        "\n",
        "geolocator = Nominatim(user_agent=\"ny_explorer\")\n",
        "location = geolocator.geocode(address)\n",
        "latitude = location.latitude\n",
        "longitude = location.longitude\n",
        "print('The geograpical coordinate of Manhattan are {}, {}.'.format(latitude, longitude))"
      ],
      "execution_count": null,
      "outputs": []
    },
    {
      "cell_type": "markdown",
      "metadata": {
        "id": "5RV9iKBjcR25"
      },
      "source": [
        "As we did with all of New York City, let's visualizat Manhattan the neighborhoods in it.\n"
      ]
    },
    {
      "cell_type": "code",
      "metadata": {
        "id": "8P3T8NSFcR25"
      },
      "source": [
        "# create map of Manhattan using latitude and longitude values\n",
        "map_manhattan = folium.Map(location=[latitude, longitude], zoom_start=11)\n",
        "\n",
        "# add markers to map\n",
        "for lat, lng, label in zip(manhattan_data['Latitude'], manhattan_data['Longitude'], manhattan_data['Neighborhood']):\n",
        "    label = folium.Popup(label, parse_html=True)\n",
        "    folium.CircleMarker(\n",
        "        [lat, lng],\n",
        "        radius=5,\n",
        "        popup=label,\n",
        "        color='blue',\n",
        "        fill=True,\n",
        "        fill_color='#3186cc',\n",
        "        fill_opacity=0.7,\n",
        "        parse_html=False).add_to(map_manhattan)  \n",
        "    \n",
        "map_manhattan"
      ],
      "execution_count": null,
      "outputs": []
    },
    {
      "cell_type": "markdown",
      "metadata": {
        "id": "zj6Ik2t3cR27"
      },
      "source": [
        "Next, we are going to start utilizing the Foursquare API to explore the neighborhoods and segment them.\n"
      ]
    },
    {
      "cell_type": "markdown",
      "metadata": {
        "id": "OkA7hBTFcR27"
      },
      "source": [
        "#### Define Foursquare Credentials and Version\n"
      ]
    },
    {
      "cell_type": "code",
      "metadata": {
        "id": "09FSCSa9cR28"
      },
      "source": [
        "CLIENT_ID = 'your-client-ID' # your Foursquare ID\n",
        "CLIENT_SECRET = 'your-client-secret' # your Foursquare Secret\n",
        "VERSION = '20180605' # Foursquare API version\n",
        "LIMIT = 100 # A default Foursquare API limit value\n",
        "\n",
        "print('Your credentails:')\n",
        "print('CLIENT_ID: ' + CLIENT_ID)\n",
        "print('CLIENT_SECRET:' + CLIENT_SECRET)"
      ],
      "execution_count": null,
      "outputs": []
    },
    {
      "cell_type": "markdown",
      "metadata": {
        "id": "UmtIb5ACcR29"
      },
      "source": [
        "#### Let's explore the first neighborhood in our dataframe.\n"
      ]
    },
    {
      "cell_type": "markdown",
      "metadata": {
        "id": "rbTdJ8UycR2-"
      },
      "source": [
        "Get the neighborhood's name.\n"
      ]
    },
    {
      "cell_type": "code",
      "metadata": {
        "id": "dA0dWBugcR2-"
      },
      "source": [
        "manhattan_data.loc[0, 'Neighborhood']"
      ],
      "execution_count": null,
      "outputs": []
    },
    {
      "cell_type": "markdown",
      "metadata": {
        "id": "s-9n8U-XcR2_"
      },
      "source": [
        "Get the neighborhood's latitude and longitude values.\n"
      ]
    },
    {
      "cell_type": "code",
      "metadata": {
        "id": "xCoG1vL-cR3A"
      },
      "source": [
        "neighborhood_latitude = manhattan_data.loc[0, 'Latitude'] # neighborhood latitude value\n",
        "neighborhood_longitude = manhattan_data.loc[0, 'Longitude'] # neighborhood longitude value\n",
        "\n",
        "neighborhood_name = manhattan_data.loc[0, 'Neighborhood'] # neighborhood name\n",
        "\n",
        "print('Latitude and longitude values of {} are {}, {}.'.format(neighborhood_name, \n",
        "                                                               neighborhood_latitude, \n",
        "                                                               neighborhood_longitude))"
      ],
      "execution_count": null,
      "outputs": []
    },
    {
      "cell_type": "markdown",
      "metadata": {
        "id": "_iRP5aJwcR3A"
      },
      "source": [
        "#### Now, let's get the top 100 venues that are in Marble Hill within a radius of 500 meters.\n"
      ]
    },
    {
      "cell_type": "markdown",
      "metadata": {
        "id": "b455uofAcR3C"
      },
      "source": [
        "First, let's create the GET request URL. Name your URL **url**.\n"
      ]
    },
    {
      "cell_type": "code",
      "metadata": {
        "scrolled": true,
        "id": "6GQNyQatcR3C"
      },
      "source": [
        "# type your answer here\n",
        "\n"
      ],
      "execution_count": null,
      "outputs": []
    },
    {
      "cell_type": "markdown",
      "metadata": {
        "id": "yWBHiGuccR3D"
      },
      "source": [
        "Double-click **here** for the solution.\n",
        "\n",
        "<!-- The correct answer is:\n",
        "LIMIT = 100 # limit of number of venues returned by Foursquare API\n",
        "-->\n",
        "\n",
        "<!--\n",
        "radius = 500 # define radius\n",
        "-->\n",
        "\n",
        "<!--\n",
        "\\\\\\\\ # create URL\n",
        "url = 'https://api.foursquare.com/v2/venues/explore?&client_id={}&client_secret={}&v={}&ll={},{}&radius={}&limit={}'.format(\n",
        "    CLIENT_ID, \n",
        "    CLIENT_SECRET, \n",
        "    VERSION, \n",
        "    neighborhood_latitude, \n",
        "    neighborhood_longitude, \n",
        "    radius, \n",
        "    LIMIT)\n",
        "url # display URL\n",
        "--> \n"
      ]
    },
    {
      "cell_type": "markdown",
      "metadata": {
        "id": "PsDcnDxZcR3D"
      },
      "source": [
        "Send the GET request and examine the resutls\n"
      ]
    },
    {
      "cell_type": "code",
      "metadata": {
        "id": "f5Zkohw4cR3E"
      },
      "source": [
        "results = requests.get(url).json()\n",
        "results"
      ],
      "execution_count": null,
      "outputs": []
    },
    {
      "cell_type": "markdown",
      "metadata": {
        "id": "BPzexAxXcR3E"
      },
      "source": [
        "From the Foursquare lab in the previous module, we know that all the information is in the _items_ key. Before we proceed, let's borrow the **get_category_type** function from the Foursquare lab.\n"
      ]
    },
    {
      "cell_type": "code",
      "metadata": {
        "id": "gFmraz86cR3F"
      },
      "source": [
        "# function that extracts the category of the venue\n",
        "def get_category_type(row):\n",
        "    try:\n",
        "        categories_list = row['categories']\n",
        "    except:\n",
        "        categories_list = row['venue.categories']\n",
        "        \n",
        "    if len(categories_list) == 0:\n",
        "        return None\n",
        "    else:\n",
        "        return categories_list[0]['name']"
      ],
      "execution_count": null,
      "outputs": []
    },
    {
      "cell_type": "markdown",
      "metadata": {
        "id": "B3EtYO6gcR3G"
      },
      "source": [
        "Now we are ready to clean the json and structure it into a _pandas_ dataframe.\n"
      ]
    },
    {
      "cell_type": "code",
      "metadata": {
        "id": "Iwtzd-aLcR3G"
      },
      "source": [
        "venues = results['response']['groups'][0]['items']\n",
        "    \n",
        "nearby_venues = json_normalize(venues) # flatten JSON\n",
        "\n",
        "# filter columns\n",
        "filtered_columns = ['venue.name', 'venue.categories', 'venue.location.lat', 'venue.location.lng']\n",
        "nearby_venues =nearby_venues.loc[:, filtered_columns]\n",
        "\n",
        "# filter the category for each row\n",
        "nearby_venues['venue.categories'] = nearby_venues.apply(get_category_type, axis=1)\n",
        "\n",
        "# clean columns\n",
        "nearby_venues.columns = [col.split(\".\")[-1] for col in nearby_venues.columns]\n",
        "\n",
        "nearby_venues.head()"
      ],
      "execution_count": null,
      "outputs": []
    },
    {
      "cell_type": "markdown",
      "metadata": {
        "id": "G5gAE4YBcR3H"
      },
      "source": [
        "And how many venues were returned by Foursquare?\n"
      ]
    },
    {
      "cell_type": "code",
      "metadata": {
        "id": "U73S-xY9cR3H"
      },
      "source": [
        "print('{} venues were returned by Foursquare.'.format(nearby_venues.shape[0]))"
      ],
      "execution_count": null,
      "outputs": []
    },
    {
      "cell_type": "markdown",
      "metadata": {
        "id": "fuHO5RlccR3H"
      },
      "source": [
        "<a id='item2'></a>\n"
      ]
    },
    {
      "cell_type": "markdown",
      "metadata": {
        "id": "gygz2GzTcR3I"
      },
      "source": [
        "## 2. Explore Neighborhoods in Manhattan\n"
      ]
    },
    {
      "cell_type": "markdown",
      "metadata": {
        "id": "F4nrBRCVcR3I"
      },
      "source": [
        "#### Let's create a function to repeat the same process to all the neighborhoods in Manhattan\n"
      ]
    },
    {
      "cell_type": "code",
      "metadata": {
        "id": "tgKQYDElcR3J"
      },
      "source": [
        "def getNearbyVenues(names, latitudes, longitudes, radius=500):\n",
        "    \n",
        "    venues_list=[]\n",
        "    for name, lat, lng in zip(names, latitudes, longitudes):\n",
        "        print(name)\n",
        "            \n",
        "        # create the API request URL\n",
        "        url = 'https://api.foursquare.com/v2/venues/explore?&client_id={}&client_secret={}&v={}&ll={},{}&radius={}&limit={}'.format(\n",
        "            CLIENT_ID, \n",
        "            CLIENT_SECRET, \n",
        "            VERSION, \n",
        "            lat, \n",
        "            lng, \n",
        "            radius, \n",
        "            LIMIT)\n",
        "            \n",
        "        # make the GET request\n",
        "        results = requests.get(url).json()[\"response\"]['groups'][0]['items']\n",
        "        \n",
        "        # return only relevant information for each nearby venue\n",
        "        venues_list.append([(\n",
        "            name, \n",
        "            lat, \n",
        "            lng, \n",
        "            v['venue']['name'], \n",
        "            v['venue']['location']['lat'], \n",
        "            v['venue']['location']['lng'],  \n",
        "            v['venue']['categories'][0]['name']) for v in results])\n",
        "\n",
        "    nearby_venues = pd.DataFrame([item for venue_list in venues_list for item in venue_list])\n",
        "    nearby_venues.columns = ['Neighborhood', \n",
        "                  'Neighborhood Latitude', \n",
        "                  'Neighborhood Longitude', \n",
        "                  'Venue', \n",
        "                  'Venue Latitude', \n",
        "                  'Venue Longitude', \n",
        "                  'Venue Category']\n",
        "    \n",
        "    return(nearby_venues)"
      ],
      "execution_count": null,
      "outputs": []
    },
    {
      "cell_type": "markdown",
      "metadata": {
        "id": "rdS8nSC3cR3J"
      },
      "source": [
        "#### Now write the code to run the above function on each neighborhood and create a new dataframe called _manhattan_venues_.\n"
      ]
    },
    {
      "cell_type": "code",
      "metadata": {
        "scrolled": true,
        "id": "z073tS6ycR3K"
      },
      "source": [
        "# type your answer here\n"
      ],
      "execution_count": null,
      "outputs": []
    },
    {
      "cell_type": "markdown",
      "metadata": {
        "id": "7Kciqy-ecR3K"
      },
      "source": [
        "Double-click **here** for the solution.\n",
        "\n",
        "<!-- The correct answer is:\n",
        "manhattan_venues = getNearbyVenues(names=manhattan_data['Neighborhood'],\n",
        "                                   latitudes=manhattan_data['Latitude'],\n",
        "                                   longitudes=manhattan_data['Longitude']\n",
        "                                  )\n",
        "--> \n"
      ]
    },
    {
      "cell_type": "markdown",
      "metadata": {
        "id": "A50j8dQ5cR3K"
      },
      "source": [
        "#### Let's check the size of the resulting dataframe\n"
      ]
    },
    {
      "cell_type": "code",
      "metadata": {
        "id": "THnfFpyrcR3L"
      },
      "source": [
        "print(manhattan_venues.shape)\n",
        "manhattan_venues.head()"
      ],
      "execution_count": null,
      "outputs": []
    },
    {
      "cell_type": "markdown",
      "metadata": {
        "id": "ceY17nbjcR3L"
      },
      "source": [
        "Let's check how many venues were returned for each neighborhood\n"
      ]
    },
    {
      "cell_type": "code",
      "metadata": {
        "id": "sZoAcoG7cR3L"
      },
      "source": [
        "manhattan_venues.groupby('Neighborhood').count()"
      ],
      "execution_count": null,
      "outputs": []
    },
    {
      "cell_type": "markdown",
      "metadata": {
        "id": "uSax2TBicR3M"
      },
      "source": [
        "#### Let's find out how many unique categories can be curated from all the returned venues\n"
      ]
    },
    {
      "cell_type": "code",
      "metadata": {
        "id": "awCJa5mFcR3M"
      },
      "source": [
        "print('There are {} uniques categories.'.format(len(manhattan_venues['Venue Category'].unique())))"
      ],
      "execution_count": null,
      "outputs": []
    },
    {
      "cell_type": "markdown",
      "metadata": {
        "id": "GEj_0pTHcR3M"
      },
      "source": [
        "<a id='item3'></a>\n"
      ]
    },
    {
      "cell_type": "markdown",
      "metadata": {
        "id": "YzjKNGCqcR3N"
      },
      "source": [
        "## 3. Analyze Each Neighborhood\n"
      ]
    },
    {
      "cell_type": "code",
      "metadata": {
        "id": "MvdepvYVcR3N"
      },
      "source": [
        "# one hot encoding\n",
        "manhattan_onehot = pd.get_dummies(manhattan_venues[['Venue Category']], prefix=\"\", prefix_sep=\"\")\n",
        "\n",
        "# add neighborhood column back to dataframe\n",
        "manhattan_onehot['Neighborhood'] = manhattan_venues['Neighborhood'] \n",
        "\n",
        "# move neighborhood column to the first column\n",
        "fixed_columns = [manhattan_onehot.columns[-1]] + list(manhattan_onehot.columns[:-1])\n",
        "manhattan_onehot = manhattan_onehot[fixed_columns]\n",
        "\n",
        "manhattan_onehot.head()"
      ],
      "execution_count": null,
      "outputs": []
    },
    {
      "cell_type": "markdown",
      "metadata": {
        "id": "NY2uOqpKcR3N"
      },
      "source": [
        "And let's examine the new dataframe size.\n"
      ]
    },
    {
      "cell_type": "code",
      "metadata": {
        "id": "EW2VyUZrcR3O"
      },
      "source": [
        "manhattan_onehot.shape"
      ],
      "execution_count": null,
      "outputs": []
    },
    {
      "cell_type": "markdown",
      "metadata": {
        "id": "og6EKcz4cR3O"
      },
      "source": [
        "#### Next, let's group rows by neighborhood and by taking the mean of the frequency of occurrence of each category\n"
      ]
    },
    {
      "cell_type": "code",
      "metadata": {
        "id": "JI6z6rXTcR3P"
      },
      "source": [
        "manhattan_grouped = manhattan_onehot.groupby('Neighborhood').mean().reset_index()\n",
        "manhattan_grouped"
      ],
      "execution_count": null,
      "outputs": []
    },
    {
      "cell_type": "markdown",
      "metadata": {
        "id": "WALZyATNcR3P"
      },
      "source": [
        "#### Let's confirm the new size\n"
      ]
    },
    {
      "cell_type": "code",
      "metadata": {
        "id": "EAgLedvPcR3P"
      },
      "source": [
        "manhattan_grouped.shape"
      ],
      "execution_count": null,
      "outputs": []
    },
    {
      "cell_type": "markdown",
      "metadata": {
        "id": "SSv0lTXOcR3P"
      },
      "source": [
        "#### Let's print each neighborhood along with the top 5 most common venues\n"
      ]
    },
    {
      "cell_type": "code",
      "metadata": {
        "id": "JLRLAM5DcR3Q"
      },
      "source": [
        "num_top_venues = 5\n",
        "\n",
        "for hood in manhattan_grouped['Neighborhood']:\n",
        "    print(\"----\"+hood+\"----\")\n",
        "    temp = manhattan_grouped[manhattan_grouped['Neighborhood'] == hood].T.reset_index()\n",
        "    temp.columns = ['venue','freq']\n",
        "    temp = temp.iloc[1:]\n",
        "    temp['freq'] = temp['freq'].astype(float)\n",
        "    temp = temp.round({'freq': 2})\n",
        "    print(temp.sort_values('freq', ascending=False).reset_index(drop=True).head(num_top_venues))\n",
        "    print('\\n')"
      ],
      "execution_count": null,
      "outputs": []
    },
    {
      "cell_type": "markdown",
      "metadata": {
        "id": "1Ld0-pWXcR3Q"
      },
      "source": [
        "#### Let's put that into a _pandas_ dataframe\n"
      ]
    },
    {
      "cell_type": "markdown",
      "metadata": {
        "id": "vdClPUU4cR3R"
      },
      "source": [
        "First, let's write a function to sort the venues in descending order.\n"
      ]
    },
    {
      "cell_type": "code",
      "metadata": {
        "id": "qemhEn0UcR3R"
      },
      "source": [
        "def return_most_common_venues(row, num_top_venues):\n",
        "    row_categories = row.iloc[1:]\n",
        "    row_categories_sorted = row_categories.sort_values(ascending=False)\n",
        "    \n",
        "    return row_categories_sorted.index.values[0:num_top_venues]"
      ],
      "execution_count": null,
      "outputs": []
    },
    {
      "cell_type": "markdown",
      "metadata": {
        "id": "8KCWVZMycR3R"
      },
      "source": [
        "Now let's create the new dataframe and display the top 10 venues for each neighborhood.\n"
      ]
    },
    {
      "cell_type": "code",
      "metadata": {
        "id": "j7kBvYkAcR3S"
      },
      "source": [
        "num_top_venues = 10\n",
        "\n",
        "indicators = ['st', 'nd', 'rd']\n",
        "\n",
        "# create columns according to number of top venues\n",
        "columns = ['Neighborhood']\n",
        "for ind in np.arange(num_top_venues):\n",
        "    try:\n",
        "        columns.append('{}{} Most Common Venue'.format(ind+1, indicators[ind]))\n",
        "    except:\n",
        "        columns.append('{}th Most Common Venue'.format(ind+1))\n",
        "\n",
        "# create a new dataframe\n",
        "neighborhoods_venues_sorted = pd.DataFrame(columns=columns)\n",
        "neighborhoods_venues_sorted['Neighborhood'] = manhattan_grouped['Neighborhood']\n",
        "\n",
        "for ind in np.arange(manhattan_grouped.shape[0]):\n",
        "    neighborhoods_venues_sorted.iloc[ind, 1:] = return_most_common_venues(manhattan_grouped.iloc[ind, :], num_top_venues)\n",
        "\n",
        "neighborhoods_venues_sorted.head()"
      ],
      "execution_count": null,
      "outputs": []
    },
    {
      "cell_type": "markdown",
      "metadata": {
        "id": "dyixMLZjcR3S"
      },
      "source": [
        "<a id='item4'></a>\n"
      ]
    },
    {
      "cell_type": "markdown",
      "metadata": {
        "id": "CnmZHT-bcR3S"
      },
      "source": [
        "## 4. Cluster Neighborhoods\n"
      ]
    },
    {
      "cell_type": "markdown",
      "metadata": {
        "id": "r-SSX1TpcR3T"
      },
      "source": [
        "Run _k_-means to cluster the neighborhood into 5 clusters.\n"
      ]
    },
    {
      "cell_type": "code",
      "metadata": {
        "id": "xuuwAcTwcR3T"
      },
      "source": [
        "# set number of clusters\n",
        "kclusters = 5\n",
        "\n",
        "manhattan_grouped_clustering = manhattan_grouped.drop('Neighborhood', 1)\n",
        "\n",
        "# run k-means clustering\n",
        "kmeans = KMeans(n_clusters=kclusters, random_state=0).fit(manhattan_grouped_clustering)\n",
        "\n",
        "# check cluster labels generated for each row in the dataframe\n",
        "kmeans.labels_[0:10] "
      ],
      "execution_count": null,
      "outputs": []
    },
    {
      "cell_type": "markdown",
      "metadata": {
        "id": "TTyIWK0_cR3T"
      },
      "source": [
        "Let's create a new dataframe that includes the cluster as well as the top 10 venues for each neighborhood.\n"
      ]
    },
    {
      "cell_type": "code",
      "metadata": {
        "id": "nvdyGdJjcR3T"
      },
      "source": [
        "# add clustering labels\n",
        "neighborhoods_venues_sorted.insert(0, 'Cluster Labels', kmeans.labels_)\n",
        "\n",
        "manhattan_merged = manhattan_data\n",
        "\n",
        "# merge manhattan_grouped with manhattan_data to add latitude/longitude for each neighborhood\n",
        "manhattan_merged = manhattan_merged.join(neighborhoods_venues_sorted.set_index('Neighborhood'), on='Neighborhood')\n",
        "\n",
        "manhattan_merged.head() # check the last columns!"
      ],
      "execution_count": null,
      "outputs": []
    },
    {
      "cell_type": "markdown",
      "metadata": {
        "id": "v0n6Bvu4cR3U"
      },
      "source": [
        "Finally, let's visualize the resulting clusters\n"
      ]
    },
    {
      "cell_type": "code",
      "metadata": {
        "id": "gxVQpe1OcR3U"
      },
      "source": [
        "# create map\n",
        "map_clusters = folium.Map(location=[latitude, longitude], zoom_start=11)\n",
        "\n",
        "# set color scheme for the clusters\n",
        "x = np.arange(kclusters)\n",
        "ys = [i + x + (i*x)**2 for i in range(kclusters)]\n",
        "colors_array = cm.rainbow(np.linspace(0, 1, len(ys)))\n",
        "rainbow = [colors.rgb2hex(i) for i in colors_array]\n",
        "\n",
        "# add markers to the map\n",
        "markers_colors = []\n",
        "for lat, lon, poi, cluster in zip(manhattan_merged['Latitude'], manhattan_merged['Longitude'], manhattan_merged['Neighborhood'], manhattan_merged['Cluster Labels']):\n",
        "    label = folium.Popup(str(poi) + ' Cluster ' + str(cluster), parse_html=True)\n",
        "    folium.CircleMarker(\n",
        "        [lat, lon],\n",
        "        radius=5,\n",
        "        popup=label,\n",
        "        color=rainbow[cluster-1],\n",
        "        fill=True,\n",
        "        fill_color=rainbow[cluster-1],\n",
        "        fill_opacity=0.7).add_to(map_clusters)\n",
        "       \n",
        "map_clusters"
      ],
      "execution_count": null,
      "outputs": []
    },
    {
      "cell_type": "markdown",
      "metadata": {
        "id": "3UxCauDncR3U"
      },
      "source": [
        "<a id='item5'></a>\n"
      ]
    },
    {
      "cell_type": "markdown",
      "metadata": {
        "id": "ZRoDEY3_cR3V"
      },
      "source": [
        "## 5. Examine Clusters\n"
      ]
    },
    {
      "cell_type": "markdown",
      "metadata": {
        "id": "RFScLLbdcR3V"
      },
      "source": [
        "Now, you can examine each cluster and determine the discriminating venue categories that distinguish each cluster. Based on the defining categories, you can then assign a name to each cluster. I will leave this exercise to you.\n"
      ]
    },
    {
      "cell_type": "markdown",
      "metadata": {
        "id": "fzb6PoTvcR3V"
      },
      "source": [
        "#### Cluster 1\n"
      ]
    },
    {
      "cell_type": "code",
      "metadata": {
        "id": "wGh8C7sScR3W"
      },
      "source": [
        "manhattan_merged.loc[manhattan_merged['Cluster Labels'] == 0, manhattan_merged.columns[[1] + list(range(5, manhattan_merged.shape[1]))]]"
      ],
      "execution_count": null,
      "outputs": []
    },
    {
      "cell_type": "markdown",
      "metadata": {
        "id": "bm_407T6cR3W"
      },
      "source": [
        "#### Cluster 2\n"
      ]
    },
    {
      "cell_type": "code",
      "metadata": {
        "id": "9pgsZeyZcR3W"
      },
      "source": [
        "manhattan_merged.loc[manhattan_merged['Cluster Labels'] == 1, manhattan_merged.columns[[1] + list(range(5, manhattan_merged.shape[1]))]]"
      ],
      "execution_count": null,
      "outputs": []
    },
    {
      "cell_type": "markdown",
      "metadata": {
        "id": "wj2F9pXwcR3W"
      },
      "source": [
        "#### Cluster 3\n"
      ]
    },
    {
      "cell_type": "code",
      "metadata": {
        "id": "WYYCJtPKcR3X"
      },
      "source": [
        "manhattan_merged.loc[manhattan_merged['Cluster Labels'] == 2, manhattan_merged.columns[[1] + list(range(5, manhattan_merged.shape[1]))]]"
      ],
      "execution_count": null,
      "outputs": []
    },
    {
      "cell_type": "markdown",
      "metadata": {
        "id": "77MgdR3fcR3X"
      },
      "source": [
        "#### Cluster 4\n"
      ]
    },
    {
      "cell_type": "code",
      "metadata": {
        "id": "hu7Pem6ocR3X"
      },
      "source": [
        "manhattan_merged.loc[manhattan_merged['Cluster Labels'] == 3, manhattan_merged.columns[[1] + list(range(5, manhattan_merged.shape[1]))]]"
      ],
      "execution_count": null,
      "outputs": []
    },
    {
      "cell_type": "markdown",
      "metadata": {
        "id": "1s56QXEhcR3Y"
      },
      "source": [
        "#### Cluster 5\n"
      ]
    },
    {
      "cell_type": "code",
      "metadata": {
        "id": "AIWiDnNDcR3Y"
      },
      "source": [
        "manhattan_merged.loc[manhattan_merged['Cluster Labels'] == 4, manhattan_merged.columns[[1] + list(range(5, manhattan_merged.shape[1]))]]"
      ],
      "execution_count": null,
      "outputs": []
    },
    {
      "cell_type": "markdown",
      "metadata": {
        "id": "9SLDlXvzcR3Y"
      },
      "source": [
        "### Thank you for completing this lab!\n",
        "\n",
        "This notebook was created by [Alex Aklson](https://www.linkedin.com/in/aklson?cm_mmc=Email_Newsletter-_-Developer_Ed%2BTech-_-WW_WW-_-SkillsNetwork-Courses-IBMDeveloperSkillsNetwork-DS0701EN-SkillsNetwork-21253531&cm_mmca1=000026UJ&cm_mmca2=10006555&cm_mmca3=M12345678&cvosrc=email.Newsletter.M12345678&cvo_campaign=000026UJ&cm_mmc=Email_Newsletter-_-Developer_Ed%2BTech-_-WW_WW-_-SkillsNetwork-Courses-IBMDeveloperSkillsNetwork-DS0701EN-SkillsNetwork-21253531&cm_mmca1=000026UJ&cm_mmca2=10006555&cm_mmca3=M12345678&cvosrc=email.Newsletter.M12345678&cvo_campaign=000026UJ) and [Polong Lin](https://www.linkedin.com/in/polonglin?cm_mmc=Email_Newsletter-_-Developer_Ed%2BTech-_-WW_WW-_-SkillsNetwork-Courses-IBMDeveloperSkillsNetwork-DS0701EN-SkillsNetwork-21253531&cm_mmca1=000026UJ&cm_mmca2=10006555&cm_mmca3=M12345678&cvosrc=email.Newsletter.M12345678&cvo_campaign=000026UJ&cm_mmc=Email_Newsletter-_-Developer_Ed%2BTech-_-WW_WW-_-SkillsNetwork-Courses-IBMDeveloperSkillsNetwork-DS0701EN-SkillsNetwork-21253531&cm_mmca1=000026UJ&cm_mmca2=10006555&cm_mmca3=M12345678&cvosrc=email.Newsletter.M12345678&cvo_campaign=000026UJ). I hope you found this lab interesting and educational. Feel free to contact us if you have any questions!\n"
      ]
    },
    {
      "cell_type": "markdown",
      "metadata": {
        "id": "0V4quTTdcR3Z"
      },
      "source": [
        "This notebook is part of a course on **Coursera** called _Applied Data Science Capstone_. If you accessed this notebook outside the course, you can take this course online by clicking [here](http://cocl.us/DP0701EN_Coursera_Week3_LAB2).\n"
      ]
    },
    {
      "cell_type": "markdown",
      "metadata": {
        "id": "BQTrXBo1cR3Z"
      },
      "source": [
        "## Change Log\n",
        "\n",
        "| Date (YYYY-MM-DD) | Version | Changed By    | Change Description         |\n",
        "| ----------------- | ------- | ------------- | -------------------------- |\n",
        "| 2020-11-26        | 2.0     | Lakshmi Holla | Updated the markdown cells |\n",
        "|                   |         |               |                            |\n",
        "|                   |         |               |                            |\n",
        "\n",
        "## <h3 align=\"center\"> © IBM Corporation 2020. All rights reserved. <h3/>\n"
      ]
    }
  ]
}